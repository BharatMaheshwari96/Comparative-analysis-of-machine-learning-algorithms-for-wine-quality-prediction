{
 "cells": [
  {
   "cell_type": "markdown",
   "metadata": {},
   "source": [
    "## Importing Lib."
   ]
  },
  {
   "cell_type": "code",
   "execution_count": 11,
   "metadata": {},
   "outputs": [],
   "source": [
    "from sklearn.neighbors import KNeighborsClassifier\n",
    "\n",
    "from sklearn import svm\n",
    "import time\n",
    "from sklearn.linear_model import LogisticRegression\n",
    "\n",
    "from sklearn.svm import SVC\n",
    "from sklearn.preprocessing import StandardScaler\n",
    "from sklearn.model_selection import train_test_split\n",
    "import pandas as pd\n",
    "from sklearn.tree import DecisionTreeClassifier, export_graphviz\n",
    "import sklearn\n",
    "from sklearn.ensemble import RandomForestClassifier, ExtraTreesClassifier\n",
    "import matplotlib.pyplot as plt\n",
    "import operator\n",
    "from sklearn import preprocessing\n",
    "from sklearn.linear_model import LassoLarsCV\n",
    "import numpy as np\n",
    "from sklearn.metrics import mean_squared_error\n",
    "from sklearn.cluster import KMeans\n",
    "from scipy.spatial.distance import cdist\n",
    "from sklearn.decomposition import PCA\n",
    "import statsmodels.formula.api as smf\n",
    "import statsmodels.stats.multicomp as multi\n",
    "\n",
    "from sklearn.naive_bayes import GaussianNB\n",
    "from sklearn.naive_bayes import MultinomialNB\n",
    "from sklearn.naive_bayes import BernoulliNB\n",
    "from xgboost import XGBClassifier\n",
    "\n",
    "from sklearn.metrics import classification_report\n",
    "from sklearn.metrics import confusion_matrix\n",
    "import warnings\n",
    "warnings.filterwarnings('ignore')\n",
    "\n"
   ]
  },
  {
   "cell_type": "markdown",
   "metadata": {},
   "source": [
    "## Importing Dataset"
   ]
  },
  {
   "cell_type": "code",
   "execution_count": 12,
   "metadata": {},
   "outputs": [],
   "source": [
    "reddataset = pd.read_csv(\"redwine.csv\")\n",
    "whitedataset = pd.read_csv(\"whitewine.csv\")"
   ]
  },
  {
   "cell_type": "markdown",
   "metadata": {},
   "source": [
    "def converter(column):\n",
    "    if column >= 6:\n",
    "        return 1\n",
    "    elif column <= 4:\n",
    "        return -1\n",
    "    else:\n",
    "        return 0\n",
    "reddataset['quality'] = reddataset['quality'].apply(converter)\n",
    "whitedataset['quality'] = whitedataset['quality'].apply(converter)"
   ]
  },
  {
   "cell_type": "markdown",
   "metadata": {},
   "source": [
    "## Defining function for different dataset call"
   ]
  },
  {
   "cell_type": "code",
   "execution_count": 13,
   "metadata": {},
   "outputs": [],
   "source": [
    "def call(functionToCall):\n",
    "    print('\\nRed Wine\\n')\n",
    "    functionToCall(reddataset)\n",
    "    print('\\nWhite Wine\\n')\n",
    "    functionToCall(whitedataset)"
   ]
  },
  {
   "cell_type": "markdown",
   "metadata": {},
   "source": [
    "## Logistic Regression"
   ]
  },
  {
   "cell_type": "code",
   "execution_count": 14,
   "metadata": {},
   "outputs": [
    {
     "name": "stdout",
     "output_type": "stream",
     "text": [
      "----------------Logistic Regression------------------------\n",
      "\n",
      "Red Wine\n",
      "\n",
      "Confusion Matrix:\n",
      " [[  0   3   0   0   0   0]\n",
      " [  0  17   0   0   0   0]\n",
      " [  0   0 204   0   0   0]\n",
      " [  0   0   0 193   0   0]\n",
      " [  0   0   0   0  59   0]\n",
      " [  0   0   0   0   2   2]]\n",
      "Accuracy: 0.9895833333333334\n",
      "Score: 0.9895833333333334\n",
      "RMSE: 0.10206207261596575\n",
      "              precision    recall  f1-score   support\n",
      "\n",
      "           3       0.00      0.00      0.00         3\n",
      "           4       0.85      1.00      0.92        17\n",
      "           5       1.00      1.00      1.00       204\n",
      "           6       1.00      1.00      1.00       193\n",
      "           7       0.97      1.00      0.98        59\n",
      "           8       1.00      0.50      0.67         4\n",
      "\n",
      "    accuracy                           0.99       480\n",
      "   macro avg       0.80      0.75      0.76       480\n",
      "weighted avg       0.98      0.99      0.99       480\n",
      "\n",
      "\n",
      "White Wine\n",
      "\n",
      "Confusion Matrix:\n",
      " [[  3   4   0   0   0   0   0]\n",
      " [  0  45   0   0   0   0   0]\n",
      " [  0   0 408   0   0   0   0]\n",
      " [  0   0   0 695   0   0   0]\n",
      " [  0   0   0   0 265   0   0]\n",
      " [  0   0   0   0   1  47   0]\n",
      " [  0   0   0   0   0   2   0]]\n",
      "Accuracy: 0.9952380952380953\n",
      "Score: 0.9952380952380953\n",
      "RMSE: 0.06900655593423542\n",
      "              precision    recall  f1-score   support\n",
      "\n",
      "           3       1.00      0.43      0.60         7\n",
      "           4       0.92      1.00      0.96        45\n",
      "           5       1.00      1.00      1.00       408\n",
      "           6       1.00      1.00      1.00       695\n",
      "           7       1.00      1.00      1.00       265\n",
      "           8       0.96      0.98      0.97        48\n",
      "           9       0.00      0.00      0.00         2\n",
      "\n",
      "    accuracy                           1.00      1470\n",
      "   macro avg       0.84      0.77      0.79      1470\n",
      "weighted avg       0.99      1.00      0.99      1470\n",
      "\n"
     ]
    }
   ],
   "source": [
    "LR = []\n",
    "def log_regression(wine_set):\n",
    "    # local variable to identify if the wine_set red or white\n",
    "    w = wine_set\n",
    "\n",
    "\n",
    "    \n",
    "    wine_set['quality_c'] = wine_set['quality']\n",
    "\n",
    "\n",
    "    # split into training and testing sets\n",
    "    predictors = wine_set.drop(['quality', 'density'], axis = 1)\n",
    "    targets = wine_set.quality_c\n",
    "\n",
    "   # Normalizing numerical features so that each feature has mean 0 and variance 1\n",
    "    feature_scaler = StandardScaler()\n",
    "    X_scaled = feature_scaler.fit_transform(predictors)\n",
    "\n",
    "\n",
    "    pred_train, pred_test, tar_train, tar_test = train_test_split(X_scaled, targets, test_size=.3,random_state = 100)\n",
    "\n",
    "    # build model on training data\n",
    "    classifier = sklearn.ensemble.RandomForestClassifier()\n",
    "    classifier = classifier.fit(pred_train, tar_train)\n",
    "\n",
    "    predictions = classifier.predict(pred_test)\n",
    "    \n",
    "    AccuracyLR = sklearn.metrics.accuracy_score(tar_test, predictions)\n",
    "    LR.append(AccuracyLR)\n",
    "    # print the confusion matrix and accuracy of the model\n",
    "    print('Confusion Matrix:\\n',sklearn.metrics.confusion_matrix(tar_test, predictions))\n",
    "    print('Accuracy:',sklearn.metrics.accuracy_score(tar_test, predictions))\n",
    "    \n",
    "    print ('Score:', classifier.score(pred_test, tar_test))\n",
    "    print ('RMSE:', mean_squared_error(predictions, tar_test) ** 0.5)\n",
    "    print(classification_report(tar_test, predictions))\n",
    "\n",
    "print('----------------Logistic Regression------------------------')\n",
    "call(log_regression)\n",
    "\n"
   ]
  },
  {
   "cell_type": "markdown",
   "metadata": {},
   "source": [
    "## KNeighborsClassifier"
   ]
  },
  {
   "cell_type": "code",
   "execution_count": 15,
   "metadata": {},
   "outputs": [
    {
     "name": "stdout",
     "output_type": "stream",
     "text": [
      "----------------KNN------------------------\n",
      "\n",
      "Red Wine\n",
      "\n",
      "Confusion Matrix:\n",
      " [[  0   3   0   0   0   0]\n",
      " [  0  10   6   1   0   0]\n",
      " [  0   0 197   7   0   0]\n",
      " [  0   0   5 184   4   0]\n",
      " [  0   0   1  14  44   0]\n",
      " [  0   0   0   0   4   0]]\n",
      "Accuracy: 0.90625\n",
      "Score: 0.90625\n",
      "RMSE: 0.32596012026013244\n",
      "\n",
      "White Wine\n",
      "\n",
      "Confusion Matrix:\n",
      " [[  1   3   3   0   0   0   0]\n",
      " [  0  13  32   0   0   0   0]\n",
      " [  0   6 374  28   0   0   0]\n",
      " [  0   0  21 670   4   0   0]\n",
      " [  0   0   0  24 239   2   0]\n",
      " [  0   0   0   1  23  24   0]\n",
      " [  0   0   0   0   0   2   0]]\n",
      "Accuracy: 0.898639455782313\n",
      "Score: 0.898639455782313\n",
      "RMSE: 0.33094381626464864\n"
     ]
    }
   ],
   "source": [
    "KNN = []\n",
    "def knn(wine_set):\n",
    "    \n",
    "    \n",
    "    wine_set['quality_c'] = wine_set['quality']\n",
    "\n",
    "    # split into training and testing sets\n",
    "    predictors = wine_set.drop(['quality', 'density'], axis = 1)\n",
    "    targets = wine_set.quality_c\n",
    "\n",
    "    # Normalizing numerical features so that each feature has mean 0 and variance 1\n",
    "    feature_scaler = StandardScaler()\n",
    "    X_scaled = feature_scaler.fit_transform(predictors)\n",
    "\n",
    "\n",
    "    pred_train, pred_test, tar_train, tar_test = train_test_split(X_scaled, targets, test_size=.3,random_state = 100)\n",
    "    \n",
    "    \n",
    "    # build model on training data\n",
    "    classifier = KNeighborsClassifier()\n",
    "    classifier = classifier.fit(pred_train, tar_train)\n",
    "\n",
    "    predictions = classifier.predict(pred_test)\n",
    "    AccuracyKNN = sklearn.metrics.accuracy_score(tar_test, predictions)\n",
    "    KNN.append(AccuracyKNN)\n",
    "    # print the confusion matrix and accuracy of the model\n",
    "    print('Confusion Matrix:\\n',sklearn.metrics.confusion_matrix(tar_test, predictions))\n",
    "    print('Accuracy:',sklearn.metrics.accuracy_score(tar_test, predictions))\n",
    "    \n",
    "    print ('Score:', classifier.score(pred_test, tar_test))\n",
    "    print ('RMSE:', mean_squared_error(predictions, tar_test) ** 0.5)\n",
    "\n",
    "    \n",
    "print('----------------KNN------------------------')\n",
    "call(knn)"
   ]
  },
  {
   "cell_type": "markdown",
   "metadata": {},
   "source": [
    "## Naive Bayes(BernoulliNB)"
   ]
  },
  {
   "cell_type": "code",
   "execution_count": 16,
   "metadata": {},
   "outputs": [
    {
     "name": "stdout",
     "output_type": "stream",
     "text": [
      "----------------Naive Bayes(BernoulliNB)------------------------\n",
      "\n",
      "Red Wine\n",
      "\n",
      "\n",
      "Confusion Matrix:\n",
      " [[  0   0   3   0   0   0]\n",
      " [  0   0  17   0   0   0]\n",
      " [  0   0 204   0   0   0]\n",
      " [  0   0   0 143  50   0]\n",
      " [  0   0   0  25  34   0]\n",
      " [  0   0   0   3   1   0]]\n",
      "Accuracy: 0.79375\n",
      "Bernoulli:0.79375\n",
      "MSE: 0.49371044145328746\n",
      "\n",
      "White Wine\n",
      "\n",
      "\n",
      "Confusion Matrix:\n",
      " [[  0   0   7   0   0   0   0]\n",
      " [  0   1  44   0   0   0   0]\n",
      " [  0   1 407   0   0   0   0]\n",
      " [  0   0   0 553 142   0   0]\n",
      " [  0   0   0 148 117   0   0]\n",
      " [  0   0   0  24  24   0   0]\n",
      " [  0   0   0   1   1   0   0]]\n",
      "Accuracy: 0.7333333333333333\n",
      "Bernoulli:0.7333333333333333\n",
      "MSE: 0.5808743116943583\n"
     ]
    }
   ],
   "source": [
    "NBC = []\n",
    "def naive(wine_set):\n",
    "   \n",
    "    \n",
    "    wine_set['quality_c'] = wine_set['quality']\n",
    "\n",
    "    # split into training and testing sets\n",
    "    predictors = wine_set.drop(['quality', 'density'], axis = 1)\n",
    "    targets = wine_set.quality_c\n",
    "    # Normalizing numerical features so that each feature has mean 0 and variance 1\n",
    "    feature_scaler = StandardScaler()\n",
    "    X_scaled = feature_scaler.fit_transform(predictors)\n",
    "\n",
    "\n",
    "    pred_train, pred_test, tar_train, tar_test = train_test_split(X_scaled, targets, test_size=.3,random_state = 100)    \n",
    "\n",
    "    \n",
    "\n",
    "\n",
    "    classifierb = BernoulliNB()\n",
    "    classifierb.fit(pred_train, tar_train)\n",
    "    predictionsB = classifierb.predict(pred_test)\n",
    "    # print the confusion matrix and accuracy of the model\n",
    "    AccuracyNB = sklearn.metrics.accuracy_score(tar_test, predictionsB)\n",
    "    NBC.append(AccuracyNB)\n",
    "    print('\\nConfusion Matrix:\\n',sklearn.metrics.confusion_matrix(tar_test, predictionsB))\n",
    "    print('Accuracy:',sklearn.metrics.accuracy_score(tar_test, predictionsB))\n",
    "    print(\"Bernoulli:\" + str(classifierb.score(pred_test, tar_test)))\n",
    "    mse = mean_squared_error(predictionsB, tar_test)\n",
    "    print('MSE:',mse ** 0.5)\n",
    "    \n",
    "\n",
    "print('----------------Naive Bayes(BernoulliNB)------------------------')\n",
    "call(naive)"
   ]
  },
  {
   "cell_type": "markdown",
   "metadata": {},
   "source": [
    "## SVC"
   ]
  },
  {
   "cell_type": "code",
   "execution_count": 17,
   "metadata": {},
   "outputs": [
    {
     "name": "stdout",
     "output_type": "stream",
     "text": [
      "----------------SVC------------------------\n",
      "\n",
      "Red Wine\n",
      "\n",
      "Confusion Matrix:\n",
      " [[  0   3   0   0   0   0]\n",
      " [  0  14   2   1   0   0]\n",
      " [  0   0 203   1   0   0]\n",
      " [  0   0   1 192   0   0]\n",
      " [  0   0   0   0  59   0]\n",
      " [  0   0   0   0   3   1]]\n",
      "Accuracy: 0.9770833333333333\n",
      "Score: 0.9770833333333333\n",
      "RMSE: 0.1707825127659933\n",
      "\n",
      "White Wine\n",
      "\n",
      "Confusion Matrix:\n",
      " [[  0   4   2   1   0   0   0]\n",
      " [  0  37   8   0   0   0   0]\n",
      " [  0   0 408   0   0   0   0]\n",
      " [  0   0   0 695   0   0   0]\n",
      " [  0   0   0   1 264   0   0]\n",
      " [  0   0   0   0   3  45   0]\n",
      " [  0   0   0   0   0   2   0]]\n",
      "Accuracy: 0.9857142857142858\n",
      "Score: 0.9857142857142858\n",
      "RMSE: 0.1543033499620919\n"
     ]
    }
   ],
   "source": [
    "SV = []\n",
    "def svc(wine_set):\n",
    "    \n",
    "    \n",
    "    wine_set['quality_c'] = wine_set['quality']\n",
    "\n",
    "    # split into training and testing sets\n",
    "    predictors = wine_set.drop(['quality', 'density'], axis = 1)\n",
    "    targets = wine_set.quality_c\n",
    "    \n",
    "    # Normalizing numerical features so that each feature has mean 0 and variance 1\n",
    "    feature_scaler = StandardScaler()\n",
    "    X_scaled = feature_scaler.fit_transform(predictors)\n",
    "\n",
    "\n",
    "    pred_train, pred_test, tar_train, tar_test = train_test_split(X_scaled, targets, test_size=.3,random_state = 100)\n",
    "    \n",
    "    \n",
    "    # build model on training data\n",
    "    classifier = SVC()\n",
    "    classifier = classifier.fit(pred_train, tar_train)\n",
    "\n",
    "    predictions = classifier.predict(pred_test)\n",
    "    \n",
    "    AccuracySVC= sklearn.metrics.accuracy_score(tar_test, predictions)\n",
    "    SV.append(AccuracySVC)\n",
    "    # print the confusion matrix and accuracy of the model\n",
    "    print('Confusion Matrix:\\n',sklearn.metrics.confusion_matrix(tar_test, predictions))\n",
    "    print('Accuracy:',sklearn.metrics.accuracy_score(tar_test, predictions))\n",
    "    \n",
    "    print ('Score:', classifier.score(pred_test, tar_test))\n",
    "    print ('RMSE:', mean_squared_error(predictions, tar_test) ** 0.5)\n",
    "\n",
    "    \n",
    "print('----------------SVC------------------------')\n",
    "call(svc)"
   ]
  },
  {
   "cell_type": "markdown",
   "metadata": {},
   "source": [
    "## Accuracy on Red and White wine dataset"
   ]
  },
  {
   "cell_type": "code",
   "execution_count": 18,
   "metadata": {},
   "outputs": [
    {
     "name": "stdout",
     "output_type": "stream",
     "text": [
      "-----------------------------------------\n",
      "Äccuracy of Various Models on Red wine\n",
      "LR:  0.9895833333333334\n",
      "KNN:  0.90625\n",
      "NBC:  0.79375\n",
      "SVC:  0.9770833333333333\n",
      "-----------------------------------------\n",
      "Äccuracy of Various Models on White wine\n",
      "LR:  0.9952380952380953\n",
      "KNN:  0.898639455782313\n",
      "NBC:  0.7333333333333333\n",
      "SVC:  0.9857142857142858\n",
      "-----------------------------------------\n"
     ]
    }
   ],
   "source": [
    "print(\"-----------------------------------------\")\n",
    "print(\"Äccuracy of Various Models on Red wine\")\n",
    "print(\"LR: \",LR[0])\n",
    "print(\"KNN: \",KNN[0])\n",
    "print(\"NBC: \",NBC[0])\n",
    "print(\"SVC: \",SV[0])\n",
    "print(\"-----------------------------------------\")\n",
    "print(\"Äccuracy of Various Models on White wine\")\n",
    "print(\"LR: \",LR[1])\n",
    "print(\"KNN: \",KNN[1])\n",
    "print(\"NBC: \",NBC[1])\n",
    "print(\"SVC: \",SV[1])\n",
    "print(\"-----------------------------------------\")"
   ]
  },
  {
   "cell_type": "markdown",
   "metadata": {},
   "source": [
    "# Comparative Plot"
   ]
  },
  {
   "cell_type": "code",
   "execution_count": 10,
   "metadata": {},
   "outputs": [
    {
     "data": {
      "image/png": "[encoded data removed]",
      "text/plain": [
       "<Figure size 432x288 with 1 Axes>"
      ]
     },
     "metadata": {
      "needs_background": "light"
     },
     "output_type": "display_data"
    }
   ],
   "source": [
    "\n",
    "# data to plot\n",
    "n_groups = 4\n",
    "RED = (LR[0], KNN[0], NBC[0], SV[0])\n",
    "WHITE = (LR[1], KNN[1], NBC[1], SV[1])\n",
    "\n",
    "# create plot\n",
    "fig, ax = plt.subplots()\n",
    "index = np.arange(n_groups)\n",
    "bar_width = 0.35\n",
    "opacity = 0.8\n",
    "\n",
    "rects1 = plt.bar(index, RED, bar_width,\n",
    "alpha=opacity,\n",
    "color='r',\n",
    "label='Red')\n",
    "\n",
    "rects2 = plt.bar(index + bar_width, WHITE, bar_width,\n",
    "alpha=opacity,\n",
    "color='b',\n",
    "label='White')\n",
    "\n",
    "plt.xlabel('MODEL')\n",
    "plt.ylabel('ACCURACY')\n",
    "plt.title('Accuracy of various Machine learning models')\n",
    "plt.xticks(index + bar_width, ('LR', 'KNN', 'NBC', 'SVC'))\n",
    "plt.legend()\n",
    "\n",
    "plt.tight_layout()\n",
    "plt.show()"
   ]
  },
  {
   "cell_type": "code",
   "execution_count": null,
   "metadata": {},
   "outputs": [],
   "source": []
  }
 ],
 "metadata": {
  "kernelspec": {
   "display_name": "Python 3",
   "language": "python",
   "name": "python3"
  },
  "language_info": {
   "codemirror_mode": {
    "name": "ipython",
    "version": 3
   },
   "file_extension": ".py",
   "mimetype": "text/x-python",
   "name": "python",
   "nbconvert_exporter": "python",
   "pygments_lexer": "ipython3",
   "version": "3.7.6"
  }
 },
 "nbformat": 4,
 "nbformat_minor": 4
}
